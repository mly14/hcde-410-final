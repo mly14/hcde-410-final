{
 "cells": [
  {
   "cell_type": "markdown",
   "id": "a6d712b8-6cf3-41a6-8902-c40944eb011a",
   "metadata": {},
   "source": [
    "\n",
    "# Motivation and problem statement\n",
    "I want to analyze the temperatures and demographics of big cities to see if there is evidence of the urban heat island (UHI) effect. I'm doing a research project on UHIs for another class so I thought this would be a good opportunity to conduct my own research. The UHI effect occurs when urbanized areas experience higher temperatures than outlying areas. Structures such as buildings, roads, and other infrastructure absorb and re-emit the sun’s heat more than natural landscapes such as forests and water bodies (EPA). This [NPR article](https://www.npr.org/2019/09/03/754044732/as-rising-heat-bakes-u-s-cities-the-poor-often-feel-it-most) shows that poorer cities are more vulnerable to heat. \n",
    "\n",
    "From a scientific and practical perspective, UHI is a relevant topic especially with climate change. There's no doubt that our planet is warming so it'll be interesting to see the magnitude of temperature changes for different areas. From a human-centered perspective, many people living cities are already facing the effects of extreme heat. Heat equity is an issue that needs to be addressed because certain communities who are poorer or are composed of a certain demographic (ie age, ethnicity) do not have the same access to healthcare or cooling centers. These people are at higher risk for health issues. This issue is related to human-centered design because it is affecting humans. Understanding who is affected will help policymakers better design cities and allocate resources to maximize the benefits. \n",
    "\n",
    "I hope to learn to apply the technical data analysis skills I've learned so far. Mainly, I want to explore the correlation between the demographics of cities and temperature to see if I can come up with my own conclusion of who is most vulnerable to the UHI effect. \n",
    "\n",
    "# Data selected for analysis\n",
    "I will use [this dataset](https://dataverse.harvard.edu/dataset.xhtml?persistentId=doi:10.7910/DVN/1F72FB) from a [research paper](https://agupubs.onlinelibrary.wiley.com/doi/10.1029/2021EF002016) published on the American Geophysical Union about UHI. It is under the CC0 1.0 Universal  (CC0 1.0) Public Domain license so I can use it freely without needing permission. The data was extracted from the US Census Bureau 2014 5-year American Community Survey (ACS) for all census tracks in the contiguous US. It includes 1,056 counties that have at least 10 built-up census tracts. This sample includes both large cities and small towns, and covers more than 300 million people.\n",
    "\n",
    "Some of the fields in the data set are:\n",
    "- Census tract number \n",
    "- Day and night time temperature changes\n",
    "- Share of White, Black, Asian, and Hispanics\n",
    "- nonUS: share of individuals that are NOT US-citizens\n",
    "- Education: share of individuals with a high school diploma (includes High school equivalency) or less. \n",
    "- Age: share of individuals 75 years of age or older\n",
    "- Income: median income in the past 12 month in 2014 inflation-adjusted US$\n",
    "\n",
    "This dataset will help my research because I can choose specific cities to focus on and I already have the demographic data so I can see if there's correlation between temperature and other factors. For more detail about the fields in the data set, click [here](https://agupubs.onlinelibrary.wiley.com/action/downloadSupplement?doi=10.1029/2021EF002016&file=2021EF002016-sup-0001-Supporting%20Information%20SI-S01.pdf). \n",
    "\n",
    "One ethical consideration is that American Indians are not represented in the dataset. This might not have been collected in the Census ACS so this research is not inclusive to all communities. Other than that, the data is public and there's no personally identifiable information so privacy shouldn't be a huge concern.\n",
    "\n",
    "# Unknowns and dependencies\n",
    "I'm not sure which cities to focus on yet or how many I should analyze. I'm not sure if I need to clean up any of the data or if it's ready to be analyzed. I'm not too confident in my data analysis skills or statistics so I might have to spend more time trying to figure out how to code things. "
   ]
  },
  {
   "cell_type": "code",
   "execution_count": null,
   "id": "c33a63a2-4426-42f1-8324-4de8abd2a544",
   "metadata": {},
   "outputs": [],
   "source": []
  }
 ],
 "metadata": {
  "kernelspec": {
   "display_name": "Python 3 (ipykernel)",
   "language": "python",
   "name": "python3"
  },
  "language_info": {
   "codemirror_mode": {
    "name": "ipython",
    "version": 3
   },
   "file_extension": ".py",
   "mimetype": "text/x-python",
   "name": "python",
   "nbconvert_exporter": "python",
   "pygments_lexer": "ipython3",
   "version": "3.9.7"
  }
 },
 "nbformat": 4,
 "nbformat_minor": 5
}
